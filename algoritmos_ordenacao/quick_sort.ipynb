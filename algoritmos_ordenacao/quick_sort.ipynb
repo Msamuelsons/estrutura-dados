{
 "cells": [
  {
   "cell_type": "code",
   "id": "initial_id",
   "metadata": {
    "collapsed": true,
    "ExecuteTime": {
     "end_time": "2024-07-30T14:19:34.744436Z",
     "start_time": "2024-07-30T14:19:34.737116Z"
    }
   },
   "source": [
    "def quick_sort(lista, inicio=0, fim=None):\n",
    "    if fim is None:\n",
    "        fim = len(lista) - 1 # pega último índice\n",
    "    if inicio < fim:\n",
    "        p = partition(lista, inicio, fim)\n",
    "        quick_sort(lista, inicio, p - 1)\n",
    "        quick_sort(lista, p+1, fim)\n",
    "\n",
    "def partition(lista, inicio, fim):\n",
    "    pivot = lista[fim]\n",
    "    i = inicio\n",
    "    for j in range(inicio, fim):\n",
    "        if lista[j] <= pivot:\n",
    "            lista[j], lista[i] = lista[i], lista[j]\n",
    "            i += 1\n",
    "    lista[i], lista[fim] = lista[fim], lista[i]\n",
    "    return i"
   ],
   "outputs": [],
   "execution_count": 4
  },
  {
   "metadata": {
    "ExecuteTime": {
     "end_time": "2024-07-30T14:20:30.602245Z",
     "start_time": "2024-07-30T14:20:30.597750Z"
    }
   },
   "cell_type": "code",
   "source": [
    "lista = [3, 1, 9, 7, 12, 14, 0]\n",
    "\n",
    "quick_sort(lista)\n",
    "print(lista)"
   ],
   "id": "445cab3d795e383e",
   "outputs": [
    {
     "name": "stdout",
     "output_type": "stream",
     "text": [
      "[0, 1, 3, 7, 9, 12, 14]\n"
     ]
    }
   ],
   "execution_count": 8
  }
 ],
 "metadata": {
  "kernelspec": {
   "display_name": "Python 3",
   "language": "python",
   "name": "python3"
  },
  "language_info": {
   "codemirror_mode": {
    "name": "ipython",
    "version": 2
   },
   "file_extension": ".py",
   "mimetype": "text/x-python",
   "name": "python",
   "nbconvert_exporter": "python",
   "pygments_lexer": "ipython2",
   "version": "2.7.6"
  }
 },
 "nbformat": 4,
 "nbformat_minor": 5
}
