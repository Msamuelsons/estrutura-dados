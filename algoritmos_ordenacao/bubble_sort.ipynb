{
 "cells": [
  {
   "metadata": {},
   "cell_type": "markdown",
   "source": [
    "## Bublle Sort\n",
    "*  Ordenação bolha\n",
    "* Método bolha\n",
    "* Ordenação por troca\n",
    "\n",
    "> O algoritmo varre o conjunto de dados do ínicio ao fim, comparando os dados de dois em dois e efetuando a troca, se necessário"
   ],
   "id": "bd71f902b26e92b6"
  },
  {
   "metadata": {
    "ExecuteTime": {
     "end_time": "2024-07-29T18:18:32.580688Z",
     "start_time": "2024-07-29T18:18:32.573199Z"
    }
   },
   "cell_type": "code",
   "source": [
    "# O(n^2)\n",
    "def bubble_sort(lista=[]):\n",
    "    for v in range(0, len(lista) + 1):\n",
    "        for i in range(0, len(lista) - 1, 1):\n",
    "            if lista[i] > lista[i+1]:\n",
    "                aux = lista[i]\n",
    "                lista[i] = lista[i+1]\n",
    "                lista[i + 1] = aux\n",
    "               \n",
    "               \n",
    "lista = [1,4,7,3,0,20]\n",
    "bubble_sort(lista)\n",
    "print(lista)               "
   ],
   "id": "da4e014cf87daddf",
   "outputs": [
    {
     "name": "stdout",
     "output_type": "stream",
     "text": [
      "[0, 1, 3, 4, 7, 20]\n"
     ]
    }
   ],
   "execution_count": 69
  },
  {
   "metadata": {
    "ExecuteTime": {
     "end_time": "2024-07-29T18:18:14.476817Z",
     "start_time": "2024-07-29T18:18:14.471239Z"
    }
   },
   "cell_type": "code",
   "source": "",
   "id": "ce25eb10b1e53cce",
   "outputs": [
    {
     "name": "stdout",
     "output_type": "stream",
     "text": [
      "[0, 1, 3, 4, 7, 20]\n"
     ]
    }
   ],
   "execution_count": 68
  }
 ],
 "metadata": {
  "kernelspec": {
   "display_name": "Python 3",
   "language": "python",
   "name": "python3"
  },
  "language_info": {
   "codemirror_mode": {
    "name": "ipython",
    "version": 2
   },
   "file_extension": ".py",
   "mimetype": "text/x-python",
   "name": "python",
   "nbconvert_exporter": "python",
   "pygments_lexer": "ipython2",
   "version": "2.7.6"
  }
 },
 "nbformat": 4,
 "nbformat_minor": 5
}
