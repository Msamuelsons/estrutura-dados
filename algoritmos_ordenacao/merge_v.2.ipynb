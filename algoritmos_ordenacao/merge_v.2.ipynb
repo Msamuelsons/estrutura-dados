{
 "cells": [
  {
   "cell_type": "code",
   "id": "initial_id",
   "metadata": {
    "collapsed": true,
    "ExecuteTime": {
     "end_time": "2024-07-30T13:31:53.337855Z",
     "start_time": "2024-07-30T13:31:53.328285Z"
    }
   },
   "source": [
    "def merge_sort(dados):\n",
    "    if len(dados) <= 1:\n",
    "        return\n",
    "\n",
    "    meio = len(dados) // 2\n",
    "    esquerda = dados[:meio]\n",
    "    direita = dados[meio:]\n",
    "\n",
    "    merge_sort(esquerda)\n",
    "    merge_sort(direita)\n",
    "\n",
    "    i = j = k = 0\n",
    "    while i < len(esquerda) and j < len(direita):\n",
    "        if esquerda[i] < direita[j]:\n",
    "            dados[k] = esquerda[i]\n",
    "            i += 1\n",
    "        else:\n",
    "            dados[k] = direita[j]\n",
    "            j += 1\n",
    "        k += 1\n",
    "\n",
    "    while i < len(esquerda):\n",
    "        dados[k] = esquerda[i]\n",
    "        i += 1\n",
    "        k += 1\n",
    "\n",
    "    while j < len(direita):\n",
    "        dados[k] = direita[j]\n",
    "        j += 1\n",
    "        k += 1\n"
   ],
   "outputs": [],
   "execution_count": 6
  },
  {
   "metadata": {
    "ExecuteTime": {
     "end_time": "2024-07-30T13:31:55.343936Z",
     "start_time": "2024-07-30T13:31:55.338698Z"
    }
   },
   "cell_type": "code",
   "source": [
    "lista = [3,0,1, 9, 12, 10, 5]\n",
    "\n",
    "merge_sort(lista)\n",
    "print(lista)"
   ],
   "id": "754bd02731fe1021",
   "outputs": [
    {
     "name": "stdout",
     "output_type": "stream",
     "text": [
      "[0, 1, 3, 5, 9, 10, 12]\n"
     ]
    }
   ],
   "execution_count": 7
  },
  {
   "metadata": {
    "ExecuteTime": {
     "end_time": "2024-07-30T13:33:38.343124Z",
     "start_time": "2024-07-30T13:33:38.325851Z"
    }
   },
   "cell_type": "code",
   "source": [
    "def merge_sort(dados):\n",
    "    # Se a lista tiver um ou nenhum elemento, ela já está ordenada\n",
    "    if len(dados) <= 1:\n",
    "        return dados\n",
    "\n",
    "    # Encontra o meio da lista\n",
    "    meio = len(dados) // 2\n",
    "\n",
    "    # Divide a lista em duas metades\n",
    "    esquerda = dados[:meio]\n",
    "    direita = dados[meio:]\n",
    "\n",
    "    # Chama recursivamente o merge_sort para cada metade\n",
    "    esquerda = merge_sort(esquerda)\n",
    "    direita = merge_sort(direita)\n",
    "\n",
    "    # Intercala as duas metades ordenadas\n",
    "    return merge(esquerda, direita)\n",
    "\n",
    "def merge(esquerda, direita):\n",
    "    resultado = []\n",
    "    i = j = 0\n",
    "\n",
    "    # Enquanto ainda houver elementos nas duas listas\n",
    "    while i < len(esquerda) and j < len(direita):\n",
    "        if esquerda[i] < direita[j]:\n",
    "            resultado.append(esquerda[i])\n",
    "            i += 1\n",
    "        else:\n",
    "            resultado.append(direita[j])\n",
    "            j += 1\n",
    "\n",
    "    # Adiciona os elementos restantes da lista esquerda, se houver\n",
    "    while i < len(esquerda):\n",
    "        resultado.append(esquerda[i])\n",
    "        i += 1\n",
    "\n",
    "    # Adiciona os elementos restantes da lista direita, se houver\n",
    "    while j < len(direita):\n",
    "        resultado.append(direita[j])\n",
    "        j += 1\n",
    "\n",
    "    return resultado\n",
    "\n",
    "# Exemplo de uso\n",
    "dados = [38, 27, 43, 3, 9, 82, 10]\n",
    "dados_ordenados = merge_sort(dados)\n",
    "print(dados_ordenados)\n"
   ],
   "id": "461b8e274da748b1",
   "outputs": [
    {
     "name": "stdout",
     "output_type": "stream",
     "text": [
      "[3, 9, 10, 27, 38, 43, 82]\n"
     ]
    }
   ],
   "execution_count": 8
  }
 ],
 "metadata": {
  "kernelspec": {
   "display_name": "Python 3",
   "language": "python",
   "name": "python3"
  },
  "language_info": {
   "codemirror_mode": {
    "name": "ipython",
    "version": 2
   },
   "file_extension": ".py",
   "mimetype": "text/x-python",
   "name": "python",
   "nbconvert_exporter": "python",
   "pygments_lexer": "ipython2",
   "version": "2.7.6"
  }
 },
 "nbformat": 4,
 "nbformat_minor": 5
}
