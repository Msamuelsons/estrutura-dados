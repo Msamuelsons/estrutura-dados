{
 "cells": [
  {
   "metadata": {},
   "cell_type": "markdown",
   "source": [
    "## Merge Sort\n",
    "> Dividimos um conjunto de dados sempre ao meio, até não ser mais possível dividir (caso base)\n",
    "\n",
    "meio = int(inicio+fim/ 2)"
   ],
   "id": "51653e5aa04e8463"
  },
  {
   "cell_type": "code",
   "id": "initial_id",
   "metadata": {
    "collapsed": true,
    "ExecuteTime": {
     "end_time": "2024-07-29T19:15:57.984150Z",
     "start_time": "2024-07-29T19:15:57.974479Z"
    }
   },
   "source": [
    "def merge_sort(lista, inicio=0, fim=None):\n",
    "    if fim is None:\n",
    "        fim = len(lista)\n",
    "    if fim - inicio > 1:\n",
    "        meio = (fim + inicio) // 2\n",
    "        \n",
    "        merge_sort(lista, inicio, meio) # lado esquerdo\n",
    "        merge_sort(lista, meio, fim) # lado direito\n",
    "        \n",
    "        merge(lista, inicio, meio, fim)\n",
    "def merge(lista, inicio, meio, fim):\n",
    "    left = lista[inicio:meio]\n",
    "    right = lista[meio:fim]\n",
    "    topo_left, topo_right = 0, 0\n",
    "    for k in range(inicio, fim):\n",
    "        if topo_left >= len(left):\n",
    "            lista[k] = right[topo_right]\n",
    "            topo_right = topo_right + 1\n",
    "        elif topo_right >= len(right):\n",
    "            lista[k] = left[topo_left]\n",
    "            topo_left = topo_left + 1\n",
    "        elif left[topo_left] < right[topo_right]:\n",
    "            lista[k] = left[topo_left]\n",
    "            topo_left = topo_left + 1\n",
    "        else:\n",
    "            lista[k] = right[topo_right]\n",
    "            topo_right = topo_right + 1"
   ],
   "outputs": [],
   "execution_count": 4
  },
  {
   "metadata": {
    "ExecuteTime": {
     "end_time": "2024-07-29T19:17:11.885402Z",
     "start_time": "2024-07-29T19:17:11.880961Z"
    }
   },
   "cell_type": "code",
   "source": [
    "lista = [38, 27, 43, 3, 9, 82, 10]\n",
    "merge_sort(lista)\n",
    "print(lista)"
   ],
   "id": "baf787b0a7d8577d",
   "outputs": [
    {
     "name": "stdout",
     "output_type": "stream",
     "text": [
      "[3, 9, 10, 27, 38, 43, 82]\n"
     ]
    }
   ],
   "execution_count": 6
  }
 ],
 "metadata": {
  "kernelspec": {
   "display_name": "Python 3",
   "language": "python",
   "name": "python3"
  },
  "language_info": {
   "codemirror_mode": {
    "name": "ipython",
    "version": 2
   },
   "file_extension": ".py",
   "mimetype": "text/x-python",
   "name": "python",
   "nbconvert_exporter": "python",
   "pygments_lexer": "ipython2",
   "version": "2.7.6"
  }
 },
 "nbformat": 4,
 "nbformat_minor": 5
}
