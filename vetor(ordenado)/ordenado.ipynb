{
 "cells": [
  {
   "metadata": {},
   "cell_type": "markdown",
   "source": [
    "## Vetor ordenado\n",
    "*  Os dados estão organizados na ordem ascendente de valores-chaves, ou seja, com o menor valor no índice 0 e cada célula mantendo um valor maior que a célula abaixo"
   ],
   "id": "4790572d06adf2cd"
  },
  {
   "metadata": {
    "ExecuteTime": {
     "end_time": "2024-07-26T13:09:48.947754Z",
     "start_time": "2024-07-26T13:09:48.502698Z"
    }
   },
   "cell_type": "code",
   "source": "import numpy as np",
   "id": "2fc21cbaa80f746d",
   "outputs": [],
   "execution_count": 1
  },
  {
   "cell_type": "code",
   "id": "initial_id",
   "metadata": {
    "collapsed": true,
    "ExecuteTime": {
     "end_time": "2024-07-26T13:36:44.030710Z",
     "start_time": "2024-07-26T13:36:44.012417Z"
    }
   },
   "source": [
    "class VetorOrdenado:\n",
    "    def __init__(self, capacidade):\n",
    "        self.capacidade = capacidade\n",
    "        \n",
    "        self.ultima_posicao = -1\n",
    "        self.valores = np.empty(self.capacidade, dtype=int)\n",
    "        \n",
    "        # O(n)\n",
    "    def imprime(self):\n",
    "        if self.ultima_posicao == -1:\n",
    "            print('O vetor está vazio')\n",
    "        else:\n",
    "            for i in range(self.ultima_posicao+1):\n",
    "                print(f'{i} - {self.valores[i]}')\n",
    "    \n",
    "    \n",
    "    # O(n)\n",
    "    def insere(self, valor):\n",
    "        if self.ultima_posicao == self.capacidade-1:\n",
    "            print('Capacidade máxima atingida')\n",
    "            return\n",
    "        posicao = 0\n",
    "        for i in range(self.ultima_posicao+1):\n",
    "            posicao = i\n",
    "            if self.valores[i] > valor:\n",
    "                break\n",
    "            if i == self.ultima_posicao:\n",
    "                posicao = i+1\n",
    "                \n",
    "        x = self.ultima_posicao\n",
    "        \n",
    "        while x >= posicao:\n",
    "            self.valores[x + 1] = self.valores[x]\n",
    "            x-=1\n",
    "        self.valores[posicao] = valor\n",
    "        self.ultima_posicao+=1\n",
    "    \n",
    "    # O(n)\n",
    "    def pesquisar(self, valor):\n",
    "        for i in range(self.ultima_posicao+1):\n",
    "            if self.valores[i] > valor:\n",
    "                return -1\n",
    "            if self.valores[i] == valor:\n",
    "                return i\n",
    "            if self.valores[i] == self.ultima_posicao:\n",
    "                return -1\n",
    "            \n",
    "    #O(n)\n",
    "    def excluir(self, valor):\n",
    "        posicao = self.pesquisar(valor)\n",
    "        if posicao == -1:\n",
    "            return -1\n",
    "        else:\n",
    "            for i in range(posicao, self.ultima_posicao):\n",
    "                self.valores[i] = self.valores[i + 1]\n",
    "            self.ultima_posicao -=1"
   ],
   "outputs": [],
   "execution_count": 45
  },
  {
   "metadata": {
    "ExecuteTime": {
     "end_time": "2024-07-26T13:36:45.018315Z",
     "start_time": "2024-07-26T13:36:45.012785Z"
    }
   },
   "cell_type": "code",
   "source": "vetor = VetorOrdenado(10)",
   "id": "a47de01492fba474",
   "outputs": [],
   "execution_count": 46
  },
  {
   "metadata": {
    "ExecuteTime": {
     "end_time": "2024-07-26T13:36:45.621228Z",
     "start_time": "2024-07-26T13:36:45.613642Z"
    }
   },
   "cell_type": "code",
   "source": "vetor.imprime()",
   "id": "c08e1e14e6c74daa",
   "outputs": [
    {
     "name": "stdout",
     "output_type": "stream",
     "text": [
      "O vetor está vazio\n"
     ]
    }
   ],
   "execution_count": 47
  },
  {
   "metadata": {
    "ExecuteTime": {
     "end_time": "2024-07-26T13:36:46.073724Z",
     "start_time": "2024-07-26T13:36:46.068058Z"
    }
   },
   "cell_type": "code",
   "source": "vetor.insere(10)",
   "id": "5bd74bc0d0d66dd5",
   "outputs": [],
   "execution_count": 48
  },
  {
   "metadata": {
    "ExecuteTime": {
     "end_time": "2024-07-26T13:36:46.404136Z",
     "start_time": "2024-07-26T13:36:46.399504Z"
    }
   },
   "cell_type": "code",
   "source": [
    "vetor.insere(4)\n",
    "vetor.insere(1)\n",
    "vetor.insere(3)\n",
    "vetor.insere(8)\n",
    "vetor.insere(7)"
   ],
   "id": "8d63a6dc202c8176",
   "outputs": [],
   "execution_count": 49
  },
  {
   "metadata": {
    "ExecuteTime": {
     "end_time": "2024-07-26T13:36:46.819655Z",
     "start_time": "2024-07-26T13:36:46.814148Z"
    }
   },
   "cell_type": "code",
   "source": "vetor.imprime()\n",
   "id": "dba9569a6e03a8b2",
   "outputs": [
    {
     "name": "stdout",
     "output_type": "stream",
     "text": [
      "0 - 1\n",
      "1 - 3\n",
      "2 - 4\n",
      "3 - 7\n",
      "4 - 8\n",
      "5 - 10\n"
     ]
    }
   ],
   "execution_count": 50
  },
  {
   "metadata": {
    "ExecuteTime": {
     "end_time": "2024-07-26T13:36:47.205372Z",
     "start_time": "2024-07-26T13:36:47.198461Z"
    }
   },
   "cell_type": "code",
   "source": "vetor.pesquisar(5)",
   "id": "a5683dd0c1b469b6",
   "outputs": [
    {
     "data": {
      "text/plain": [
       "-1"
      ]
     },
     "execution_count": 51,
     "metadata": {},
     "output_type": "execute_result"
    }
   ],
   "execution_count": 51
  },
  {
   "metadata": {
    "ExecuteTime": {
     "end_time": "2024-07-26T13:36:48.051625Z",
     "start_time": "2024-07-26T13:36:48.042744Z"
    }
   },
   "cell_type": "code",
   "source": "vetor.pesquisar(8)",
   "id": "be7a299b762d4651",
   "outputs": [
    {
     "data": {
      "text/plain": [
       "4"
      ]
     },
     "execution_count": 52,
     "metadata": {},
     "output_type": "execute_result"
    }
   ],
   "execution_count": 52
  },
  {
   "metadata": {
    "ExecuteTime": {
     "end_time": "2024-07-26T13:36:49.155200Z",
     "start_time": "2024-07-26T13:36:49.147215Z"
    }
   },
   "cell_type": "code",
   "source": "vetor.pesquisar(2)",
   "id": "f1c3bfa4a0d9c47c",
   "outputs": [
    {
     "data": {
      "text/plain": [
       "-1"
      ]
     },
     "execution_count": 53,
     "metadata": {},
     "output_type": "execute_result"
    }
   ],
   "execution_count": 53
  },
  {
   "metadata": {
    "ExecuteTime": {
     "end_time": "2024-07-26T13:37:10.008426Z",
     "start_time": "2024-07-26T13:37:10.001132Z"
    }
   },
   "cell_type": "code",
   "source": "vetor.pesquisar(7)",
   "id": "43cf8a7fcf0a9185",
   "outputs": [
    {
     "data": {
      "text/plain": [
       "3"
      ]
     },
     "execution_count": 56,
     "metadata": {},
     "output_type": "execute_result"
    }
   ],
   "execution_count": 56
  }
 ],
 "metadata": {
  "kernelspec": {
   "display_name": "Python 3",
   "language": "python",
   "name": "python3"
  },
  "language_info": {
   "codemirror_mode": {
    "name": "ipython",
    "version": 2
   },
   "file_extension": ".py",
   "mimetype": "text/x-python",
   "name": "python",
   "nbconvert_exporter": "python",
   "pygments_lexer": "ipython2",
   "version": "2.7.6"
  }
 },
 "nbformat": 4,
 "nbformat_minor": 5
}
