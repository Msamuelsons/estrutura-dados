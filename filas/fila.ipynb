{
 "cells": [
  {
   "metadata": {},
   "cell_type": "markdown",
   "source": [
    "## Filas\n",
    "* A primeira pessoa a entrar no final da fila será a primeira pessoa a chegar na frente da fila\n",
    "* Estrutura semelhante a uma pilha, exceto que em uma fila o primeiro elemento inserido é o primeiro a ser removido (FIFO)\n",
    "\n",
    "### Operações\n",
    "Enfileirar\n",
    "* Colocar um item no final da fila\n",
    "\n",
    "Desenfileirar\n",
    "* Remover um item do início da fila\n",
    "\n",
    "Ver início da fila\n",
    "* Mostra o elemento que está no início da fila"
   ],
   "id": "9b65b12a7b379b4"
  },
  {
   "metadata": {
    "ExecuteTime": {
     "end_time": "2024-08-03T01:47:00.709982Z",
     "start_time": "2024-08-03T01:47:00.445426Z"
    }
   },
   "cell_type": "code",
   "source": "import numpy as np",
   "id": "5454d243dba8b1f9",
   "outputs": [],
   "execution_count": 3
  },
  {
   "cell_type": "code",
   "id": "initial_id",
   "metadata": {
    "collapsed": true,
    "ExecuteTime": {
     "end_time": "2024-08-03T02:07:29.464823Z",
     "start_time": "2024-08-03T02:07:29.447982Z"
    }
   },
   "source": [
    "class FilaCircular:\n",
    "  \n",
    "  def __init__(self, capacidade):\n",
    "    self.capacidade = capacidade\n",
    "    self.inicio = 0\n",
    "    self.final = -1\n",
    "    self.numero_elementos = 0\n",
    "    self.valores = np.empty(self.capacidade, dtype=int)\n",
    "\n",
    "  def __fila_vazia(self):\n",
    "    return self.numero_elementos == 0\n",
    "\n",
    "  def __fila_cheia(self):\n",
    "    return self.numero_elementos == self.capacidade\n",
    "\n",
    "  def enfileirar(self, valor):\n",
    "    if self.__fila_cheia():\n",
    "      print('A fila está cheia')\n",
    "      return\n",
    "    \n",
    "    if self.final == self.capacidade - 1:\n",
    "      self.final = -1\n",
    "    self.final += 1\n",
    "    self.valores[self.final] = valor\n",
    "    self.numero_elementos += 1\n",
    "\n",
    "  def desenfileirar(self):\n",
    "    if self.__fila_vazia():\n",
    "      print('A fila já está vazia')\n",
    "      return\n",
    "\n",
    "    temp = self.valores[self.inicio]\n",
    "    self.inicio += 1\n",
    "    if self.inicio == self.capacidade:\n",
    "      self.inicio = 0\n",
    "    self.numero_elementos -= 1\n",
    "    return temp\n",
    "\n",
    "  def primeiro(self):\n",
    "    if self.__fila_vazia():\n",
    "      return -1\n",
    "    return self.valores[self.inicio]\n"
   ],
   "outputs": [],
   "execution_count": 20
  },
  {
   "metadata": {
    "ExecuteTime": {
     "end_time": "2024-08-03T02:07:31.266207Z",
     "start_time": "2024-08-03T02:07:31.258155Z"
    }
   },
   "cell_type": "code",
   "source": "fila = FilaCircular(5)",
   "id": "efad990897121d01",
   "outputs": [],
   "execution_count": 21
  },
  {
   "metadata": {
    "ExecuteTime": {
     "end_time": "2024-08-03T02:07:32.817392Z",
     "start_time": "2024-08-03T02:07:32.805582Z"
    }
   },
   "cell_type": "code",
   "source": "fila.primeiro()",
   "id": "26233025abccee9f",
   "outputs": [
    {
     "data": {
      "text/plain": [
       "-1"
      ]
     },
     "execution_count": 22,
     "metadata": {},
     "output_type": "execute_result"
    }
   ],
   "execution_count": 22
  },
  {
   "metadata": {
    "ExecuteTime": {
     "end_time": "2024-08-03T02:07:38.567732Z",
     "start_time": "2024-08-03T02:07:38.558113Z"
    }
   },
   "cell_type": "code",
   "source": [
    "fila.enfileirar(1)\n",
    "fila.enfileirar(2)\n",
    "fila.enfileirar(3)\n",
    "fila.enfileirar(4)"
   ],
   "id": "97411355393dedac",
   "outputs": [],
   "execution_count": 23
  },
  {
   "metadata": {
    "ExecuteTime": {
     "end_time": "2024-08-03T02:07:40.283363Z",
     "start_time": "2024-08-03T02:07:40.270828Z"
    }
   },
   "cell_type": "code",
   "source": "fila.primeiro()",
   "id": "f3d8346c7265d678",
   "outputs": [
    {
     "data": {
      "text/plain": [
       "1"
      ]
     },
     "execution_count": 24,
     "metadata": {},
     "output_type": "execute_result"
    }
   ],
   "execution_count": 24
  },
  {
   "metadata": {
    "ExecuteTime": {
     "end_time": "2024-08-03T02:07:42.743274Z",
     "start_time": "2024-08-03T02:07:42.735737Z"
    }
   },
   "cell_type": "code",
   "source": "fila.enfileirar(9)",
   "id": "1c74c1f5b3a9efcc",
   "outputs": [],
   "execution_count": 25
  },
  {
   "metadata": {
    "ExecuteTime": {
     "end_time": "2024-08-03T02:07:48.700098Z",
     "start_time": "2024-08-03T02:07:48.679793Z"
    }
   },
   "cell_type": "code",
   "source": "fila.valores",
   "id": "cec115135f0f36af",
   "outputs": [
    {
     "data": {
      "text/plain": [
       "array([1, 2, 3, 4, 9])"
      ]
     },
     "execution_count": 27,
     "metadata": {},
     "output_type": "execute_result"
    }
   ],
   "execution_count": 27
  },
  {
   "metadata": {
    "ExecuteTime": {
     "end_time": "2024-08-03T02:08:04.420840Z",
     "start_time": "2024-08-03T02:08:04.401644Z"
    }
   },
   "cell_type": "code",
   "source": "fila.desenfileirar()\n",
   "id": "630d8f7c5bac3015",
   "outputs": [
    {
     "data": {
      "text/plain": [
       "1"
      ]
     },
     "execution_count": 30,
     "metadata": {},
     "output_type": "execute_result"
    }
   ],
   "execution_count": 30
  },
  {
   "metadata": {
    "ExecuteTime": {
     "end_time": "2024-08-03T02:08:10.789109Z",
     "start_time": "2024-08-03T02:08:10.770626Z"
    }
   },
   "cell_type": "code",
   "source": "fila.primeiro()",
   "id": "f09758d120979478",
   "outputs": [
    {
     "data": {
      "text/plain": [
       "2"
      ]
     },
     "execution_count": 31,
     "metadata": {},
     "output_type": "execute_result"
    }
   ],
   "execution_count": 31
  },
  {
   "metadata": {
    "ExecuteTime": {
     "end_time": "2024-08-03T02:08:15.039373Z",
     "start_time": "2024-08-03T02:08:15.025889Z"
    }
   },
   "cell_type": "code",
   "source": "fila.valores",
   "id": "e3fc319cb7ef511",
   "outputs": [
    {
     "data": {
      "text/plain": [
       "array([1, 2, 3, 4, 9])"
      ]
     },
     "execution_count": 32,
     "metadata": {},
     "output_type": "execute_result"
    }
   ],
   "execution_count": 32
  },
  {
   "metadata": {
    "ExecuteTime": {
     "end_time": "2024-08-03T02:08:21.460132Z",
     "start_time": "2024-08-03T02:08:21.435793Z"
    }
   },
   "cell_type": "code",
   "source": "fila.final",
   "id": "63c47a99acf00c59",
   "outputs": [
    {
     "data": {
      "text/plain": [
       "4"
      ]
     },
     "execution_count": 34,
     "metadata": {},
     "output_type": "execute_result"
    }
   ],
   "execution_count": 34
  }
 ],
 "metadata": {
  "kernelspec": {
   "display_name": "Python 3",
   "language": "python",
   "name": "python3"
  },
  "language_info": {
   "codemirror_mode": {
    "name": "ipython",
    "version": 2
   },
   "file_extension": ".py",
   "mimetype": "text/x-python",
   "name": "python",
   "nbconvert_exporter": "python",
   "pygments_lexer": "ipython2",
   "version": "2.7.6"
  }
 },
 "nbformat": 4,
 "nbformat_minor": 5
}
