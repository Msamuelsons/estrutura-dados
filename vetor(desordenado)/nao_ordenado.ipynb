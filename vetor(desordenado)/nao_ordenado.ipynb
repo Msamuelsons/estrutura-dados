{
 "cells": [
  {
   "metadata": {},
   "cell_type": "markdown",
   "source": "# Vetores",
   "id": "728cd44fd0cb6c64"
  },
  {
   "metadata": {},
   "cell_type": "markdown",
   "source": "## Não ordenado",
   "id": "abe94fb86a1b016b"
  },
  {
   "cell_type": "code",
   "id": "initial_id",
   "metadata": {
    "collapsed": true,
    "ExecuteTime": {
     "end_time": "2024-07-26T01:56:40.254723Z",
     "start_time": "2024-07-26T01:56:40.248953Z"
    }
   },
   "source": "import numpy as np",
   "outputs": [],
   "execution_count": 36
  },
  {
   "metadata": {
    "ExecuteTime": {
     "end_time": "2024-07-26T01:56:43.284678Z",
     "start_time": "2024-07-26T01:56:43.274975Z"
    }
   },
   "cell_type": "code",
   "source": [
    "class VetorNaoOrdenado:\n",
    "    def __init__(self, capacidade):\n",
    "        self.capacidade = capacidade\n",
    "        self.ultima_posicao = -1\n",
    "        self.valores = np.empty(self.capacidade, dtype=int)\n",
    "    \n",
    "    #O(n)\n",
    "    def imprimir(self):\n",
    "        if self.ultima_posicao == -1:\n",
    "            print('O vetor está vazio')\n",
    "        else:\n",
    "            for i in range(self.ultima_posicao+1):\n",
    "                print(f'{i} - {self.valores[i]}')\n",
    "    \n",
    "    # O(1)\n",
    "    def insere(self, valor):\n",
    "        if self.ultima_posicao == self.capacidade-1:\n",
    "            print('Capacidade máxima atingida')\n",
    "        else:\n",
    "            self.ultima_posicao += 1\n",
    "            self.valores[self.ultima_posicao] = valor\n",
    "    \n",
    "    #O(n)\n",
    "    def pesquisa(self, valor):\n",
    "        for i in range(self.ultima_posicao+1):\n",
    "            if valor == self.valores[i]:\n",
    "                return i\n",
    "        return -1\n",
    "    #O(n)\n",
    "    def excluir(self, valor):\n",
    "        posicao = self.pesquisa(valor)\n",
    "        if posicao == -1:\n",
    "            return -1\n",
    "        else:\n",
    "            for i in range(posicao, self.ultima_posicao):\n",
    "                self.valores[i] = self.valores[i + 1]\n",
    "            self.ultima_posicao -=1"
   ],
   "id": "5701ce77a57eb93f",
   "outputs": [],
   "execution_count": 37
  },
  {
   "metadata": {
    "ExecuteTime": {
     "end_time": "2024-07-26T01:56:26.166497Z",
     "start_time": "2024-07-26T01:56:26.158691Z"
    }
   },
   "cell_type": "code",
   "source": "vetor = VetorNaoOrdenado(5)",
   "id": "84bed9ac4aeb3032",
   "outputs": [],
   "execution_count": 34
  },
  {
   "metadata": {
    "ExecuteTime": {
     "end_time": "2024-07-26T01:56:56.649473Z",
     "start_time": "2024-07-26T01:56:56.642351Z"
    }
   },
   "cell_type": "code",
   "source": "vetor.imprimir()",
   "id": "3d6fb303bb771b72",
   "outputs": [
    {
     "name": "stdout",
     "output_type": "stream",
     "text": [
      "0 - 3\n",
      "1 - 5\n",
      "2 - 8\n"
     ]
    }
   ],
   "execution_count": 40
  },
  {
   "metadata": {
    "ExecuteTime": {
     "end_time": "2024-07-26T01:48:09.921454Z",
     "start_time": "2024-07-26T01:48:09.917166Z"
    }
   },
   "cell_type": "code",
   "source": "vetor.insere(2)",
   "id": "88a048e4d570f59c",
   "outputs": [],
   "execution_count": 20
  },
  {
   "metadata": {
    "ExecuteTime": {
     "end_time": "2024-07-26T01:56:49.655514Z",
     "start_time": "2024-07-26T01:56:49.648539Z"
    }
   },
   "cell_type": "code",
   "source": "vetor.imprimir()",
   "id": "dc9846e3f1ff76ae",
   "outputs": [
    {
     "name": "stdout",
     "output_type": "stream",
     "text": [
      "O vetor está vazio\n"
     ]
    }
   ],
   "execution_count": 38
  },
  {
   "metadata": {
    "ExecuteTime": {
     "end_time": "2024-07-26T01:56:53.378294Z",
     "start_time": "2024-07-26T01:56:53.371868Z"
    }
   },
   "cell_type": "code",
   "source": [
    "vetor.insere(3)\n",
    "vetor.insere(5)\n",
    "vetor.insere(8)\n"
   ],
   "id": "3830289c7009c483",
   "outputs": [],
   "execution_count": 39
  },
  {
   "metadata": {
    "ExecuteTime": {
     "end_time": "2024-07-26T01:48:46.381732Z",
     "start_time": "2024-07-26T01:48:46.373358Z"
    }
   },
   "cell_type": "code",
   "source": "vetor.pesquisa(3)",
   "id": "683cd76c60accd32",
   "outputs": [
    {
     "data": {
      "text/plain": [
       "1"
      ]
     },
     "execution_count": 25,
     "metadata": {},
     "output_type": "execute_result"
    }
   ],
   "execution_count": 25
  },
  {
   "metadata": {
    "ExecuteTime": {
     "end_time": "2024-07-26T01:57:08.429369Z",
     "start_time": "2024-07-26T01:57:08.421131Z"
    }
   },
   "cell_type": "code",
   "source": "vetor.excluir(3)",
   "id": "2a4ee0a37e7ad30a",
   "outputs": [],
   "execution_count": 41
  },
  {
   "metadata": {
    "ExecuteTime": {
     "end_time": "2024-07-26T01:57:17.048668Z",
     "start_time": "2024-07-26T01:57:17.042634Z"
    }
   },
   "cell_type": "code",
   "source": "vetor.imprimir()",
   "id": "82b69d9605a48446",
   "outputs": [
    {
     "name": "stdout",
     "output_type": "stream",
     "text": [
      "0 - 5\n",
      "1 - 8\n"
     ]
    }
   ],
   "execution_count": 42
  }
 ],
 "metadata": {
  "kernelspec": {
   "display_name": "Python 3",
   "language": "python",
   "name": "python3"
  },
  "language_info": {
   "codemirror_mode": {
    "name": "ipython",
    "version": 2
   },
   "file_extension": ".py",
   "mimetype": "text/x-python",
   "name": "python",
   "nbconvert_exporter": "python",
   "pygments_lexer": "ipython2",
   "version": "2.7.6"
  }
 },
 "nbformat": 4,
 "nbformat_minor": 5
}
