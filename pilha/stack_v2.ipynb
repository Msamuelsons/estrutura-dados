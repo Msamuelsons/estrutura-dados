{
 "cells": [
  {
   "metadata": {},
   "cell_type": "markdown",
   "source": "## Pilha",
   "id": "13bab69e8b20faa6"
  },
  {
   "cell_type": "code",
   "id": "initial_id",
   "metadata": {
    "collapsed": true,
    "ExecuteTime": {
     "end_time": "2024-08-01T19:18:26.528272Z",
     "start_time": "2024-08-01T19:18:26.248751Z"
    }
   },
   "source": "import numpy as np",
   "outputs": [],
   "execution_count": 1
  },
  {
   "metadata": {
    "ExecuteTime": {
     "end_time": "2024-08-01T19:29:10.495739Z",
     "start_time": "2024-08-01T19:29:10.484168Z"
    }
   },
   "cell_type": "code",
   "source": [
    "class Pilha:\n",
    "    def __init__(self, capacidade):\n",
    "        self.__capacidade = capacidade\n",
    "        self.__top = -1\n",
    "        self.__valores = np.empty(self.__capacidade, dtype=int) # ponteiro\n",
    "        \n",
    "    def __pilha_cheia(self):\n",
    "        if self.__top == self.__capacidade-1:\n",
    "            return True\n",
    "        else:\n",
    "            return False\n",
    "    \n",
    "    def __pilha_vazia(self):\n",
    "        if self.__top == -1:\n",
    "            return True\n",
    "        else:\n",
    "            return False\n",
    "    \n",
    "    def empilhar(self, valor):\n",
    "        if self.__pilha_cheia():\n",
    "            print('A pilha está cheia')\n",
    "        else: \n",
    "            self.__top +=1\n",
    "            self.__valores[self.__top] = valor\n",
    "            print(f'Valor {self.__valores[self.__top]} empilhado')\n",
    "    \n",
    "    def desempilhar(self):\n",
    "        if self.__pilha_vazia():\n",
    "            print('A pilha está vazia')\n",
    "        else:\n",
    "            self.__top -=1\n",
    "    \n",
    "    def ver_top(self):\n",
    "        if self.__top != -1:\n",
    "            return self.__valores[self.__top]\n",
    "        else:\n",
    "            return -1\n",
    "        "
   ],
   "id": "92436442233056d4",
   "outputs": [],
   "execution_count": 22
  },
  {
   "metadata": {
    "ExecuteTime": {
     "end_time": "2024-08-01T19:29:12.155574Z",
     "start_time": "2024-08-01T19:29:12.150466Z"
    }
   },
   "cell_type": "code",
   "source": "pilha = Pilha(5)",
   "id": "a1103bb114a01345",
   "outputs": [],
   "execution_count": 23
  },
  {
   "metadata": {
    "ExecuteTime": {
     "end_time": "2024-08-01T19:29:13.374889Z",
     "start_time": "2024-08-01T19:29:13.364243Z"
    }
   },
   "cell_type": "code",
   "source": [
    "pilha.empilhar(0)\n",
    "pilha.empilhar(1)\n",
    "pilha.empilhar(2)"
   ],
   "id": "c33d6ccc0ccfbf59",
   "outputs": [
    {
     "name": "stdout",
     "output_type": "stream",
     "text": [
      "Valor 0 empilhado\n",
      "Valor 1 empilhado\n",
      "Valor 2 empilhado\n"
     ]
    }
   ],
   "execution_count": 24
  },
  {
   "metadata": {
    "ExecuteTime": {
     "end_time": "2024-08-01T19:29:27.373347Z",
     "start_time": "2024-08-01T19:29:27.365154Z"
    }
   },
   "cell_type": "code",
   "source": "pilha.ver_top()",
   "id": "9085cb2fcf711175",
   "outputs": [
    {
     "data": {
      "text/plain": [
       "2"
      ]
     },
     "execution_count": 25,
     "metadata": {},
     "output_type": "execute_result"
    }
   ],
   "execution_count": 25
  },
  {
   "metadata": {
    "ExecuteTime": {
     "end_time": "2024-08-01T19:29:37.461537Z",
     "start_time": "2024-08-01T19:29:37.450870Z"
    }
   },
   "cell_type": "code",
   "source": "pilha.desempilhar()",
   "id": "5c64e41b54fe3157",
   "outputs": [],
   "execution_count": 26
  },
  {
   "metadata": {
    "ExecuteTime": {
     "end_time": "2024-08-01T19:29:46.292624Z",
     "start_time": "2024-08-01T19:29:46.284580Z"
    }
   },
   "cell_type": "code",
   "source": "pilha.ver_top()",
   "id": "9f0bc6ff35e4db4f",
   "outputs": [
    {
     "data": {
      "text/plain": [
       "1"
      ]
     },
     "execution_count": 28,
     "metadata": {},
     "output_type": "execute_result"
    }
   ],
   "execution_count": 28
  }
 ],
 "metadata": {
  "kernelspec": {
   "display_name": "Python 3",
   "language": "python",
   "name": "python3"
  },
  "language_info": {
   "codemirror_mode": {
    "name": "ipython",
    "version": 2
   },
   "file_extension": ".py",
   "mimetype": "text/x-python",
   "name": "python",
   "nbconvert_exporter": "python",
   "pygments_lexer": "ipython2",
   "version": "2.7.6"
  }
 },
 "nbformat": 4,
 "nbformat_minor": 5
}
