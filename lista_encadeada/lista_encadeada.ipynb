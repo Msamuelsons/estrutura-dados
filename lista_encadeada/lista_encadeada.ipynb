{
 "cells": [
  {
   "metadata": {},
   "cell_type": "markdown",
   "source": [
    "## Arrays ou listas encadeadas\n",
    "> São estruturas de dados que trabalham com alocação de dados sequenciais na memória"
   ],
   "id": "91c0ebc16ef406f5"
  },
  {
   "metadata": {},
   "cell_type": "markdown",
   "source": [
    "### Array estático\n",
    "> É um conjunto de espaços sequencial na memória que é previamente reservado, mas que em hipótese alguma pode ter seu tamanho alterado"
   ],
   "id": "97c95d60cbe3753"
  },
  {
   "metadata": {},
   "cell_type": "markdown",
   "source": [
    "### Array dinâmico \n",
    "> Armazena dados sequencialmente, porém agora, à medida que surgem novos dados, podemos realocar o conjunto em outro espaço de memória em que caíbam todos os dados"
   ],
   "id": "7eb6b6b759e8242b"
  },
  {
   "cell_type": "code",
   "id": "initial_id",
   "metadata": {
    "collapsed": true,
    "ExecuteTime": {
     "end_time": "2024-07-31T19:15:17.599833Z",
     "start_time": "2024-07-31T19:15:17.595999Z"
    }
   },
   "source": [
    "class Node:\n",
    "    def __init__(self, data): \n",
    "        self.data = data\n",
    "        self.next = None"
   ],
   "outputs": [],
   "execution_count": 3
  },
  {
   "metadata": {
    "ExecuteTime": {
     "end_time": "2024-07-31T19:25:23.832113Z",
     "start_time": "2024-07-31T19:25:23.823771Z"
    }
   },
   "cell_type": "code",
   "source": [
    "class LinkedList:\n",
    "    def __init__(self):\n",
    "        self.head = None\n",
    "        \n",
    "    def append(self, data):\n",
    "        new_node = Node(data)\n",
    "        \n",
    "        if self.head is None:\n",
    "            self.head = new_node\n",
    "            return \n",
    "        last = self.head\n",
    "        while last.next:\n",
    "            last = last.next\n",
    "        last.next = new_node\n",
    "    \n",
    "    def print_list(self):\n",
    "        current = self.head\n",
    "        while current:\n",
    "            print(current.data, end='=>')\n",
    "            current = current.next\n",
    "        print('None')\n",
    "        "
   ],
   "id": "d9984043d83573d1",
   "outputs": [],
   "execution_count": 14
  },
  {
   "metadata": {
    "ExecuteTime": {
     "end_time": "2024-07-31T19:25:25.189435Z",
     "start_time": "2024-07-31T19:25:25.181876Z"
    }
   },
   "cell_type": "code",
   "source": [
    "ll = LinkedList()\n",
    "\n",
    "ll.append(1)\n",
    "ll.append(2)\n",
    "ll.append(3)\n",
    "\n",
    "ll.print_list()  \n"
   ],
   "id": "ff26b2bb319b1cc9",
   "outputs": [
    {
     "name": "stdout",
     "output_type": "stream",
     "text": [
      "1=>2=>3=>None\n"
     ]
    }
   ],
   "execution_count": 15
  }
 ],
 "metadata": {
  "kernelspec": {
   "display_name": "Python 3",
   "language": "python",
   "name": "python3"
  },
  "language_info": {
   "codemirror_mode": {
    "name": "ipython",
    "version": 2
   },
   "file_extension": ".py",
   "mimetype": "text/x-python",
   "name": "python",
   "nbconvert_exporter": "python",
   "pygments_lexer": "ipython2",
   "version": "2.7.6"
  }
 },
 "nbformat": 4,
 "nbformat_minor": 5
}
